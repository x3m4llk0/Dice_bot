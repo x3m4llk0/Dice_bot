{
  "nbformat": 4,
  "nbformat_minor": 0,
  "metadata": {
    "colab": {
      "name": "Skillbox Chat Bot\"",
      "provenance": [],
      "collapsed_sections": [],
      "include_colab_link": true
    },
    "kernelspec": {
      "name": "python3",
      "display_name": "Python 3"
    },
    "language_info": {
      "name": "python"
    }
  },
  "cells": [
    {
      "cell_type": "markdown",
      "metadata": {
        "id": "view-in-github",
        "colab_type": "text"
      },
      "source": [
        "<a href=\"https://colab.research.google.com/github/x3m4llk0/Dice_bot/blob/main/Skillbox_Chat_Bot%22.ipynb\" target=\"_parent\"><img src=\"https://colab.research.google.com/assets/colab-badge.svg\" alt=\"Open In Colab\"/></a>"
      ]
    },
    {
      "cell_type": "markdown",
      "source": [
        "# День 1\n",
        "*   Язык Python\n",
        "*   Архитектура чат ботов\n",
        "\n",
        "[ОРИГИНАЛЬНЫЙ ПУСТОЙ НОУТБУК ЗДЕСЬ](https://colab.research.google.com/drive/1FHiUmdQc3fy4AhJ2gLSfeVcl-0sKp-je)\n"
      ],
      "metadata": {
        "id": "ppsIrKbyJDTJ"
      }
    },
    {
      "cell_type": "markdown",
      "source": [
        "# ВЕРСИЯ 1\n",
        "#### Простейший Чат-бот, поздоровайтесь\n",
        "`{Вопрос на входе}` => `{Алгоритм ответа}` => `{Ответ на выходе}`\n",
        "\n",
        "---\n",
        "Простейший алгоритм — это поиск по базе известных вопросов и ответов.\n"
      ],
      "metadata": {
        "id": "mW1tlQcAJRmA"
      }
    },
    {
      "cell_type": "code",
      "source": [
        "import random"
      ],
      "metadata": {
        "id": "jHwSOC-8InIo"
      },
      "execution_count": null,
      "outputs": []
    },
    {
      "cell_type": "code",
      "execution_count": null,
      "metadata": {
        "id": "ePQvZ6EHH75B"
      },
      "outputs": [],
      "source": [
        "# text = input()\n",
        "# if text in [\"Привет\", \"Здарова\", \"Хеллоу\"]:\n",
        "#   print(random.choice([\"Здрасте\", \"Йоу\", \"Приветики\"]))\n",
        "# elif text in [\"Пока\", \"Увидимся\", \"Чао\"]:\n",
        "#   print(random.choice([\"Буду ждать нашей встречи\", \"Ок\", \"Бай-бай\"]))\n",
        "# else:\n",
        "#   print(\"Не понял\")\n",
        "\n",
        "\n",
        "# input = ввод данных от пользователя\n",
        "# random.choice = выбор случайного элемента из списка\n",
        "# print = вывод на экран"
      ]
    },
    {
      "cell_type": "markdown",
      "source": [
        "# Алгоритм ответа\n",
        "1.   Если вопрос это что-то типа \"*Привет*\" или \"*Здарова*\" ну или там \"*Хеллоу*\"\n",
        "2.   То ответить случайной фразой вроде \"**Йоу**\", \"**Приветики**\" или \"**Здрасте**\""
      ],
      "metadata": {
        "id": "tysEo2EaLV9V"
      }
    },
    {
      "cell_type": "markdown",
      "source": [
        "Сложность — в том чтобы сравнить **Текст Пользователя** и текст в программе."
      ],
      "metadata": {
        "id": "26m8fK1GN4m3"
      }
    },
    {
      "cell_type": "code",
      "source": [
        "# Задание\n",
        "# Дописать функцию так, чтобы все примеры ниже работали\n",
        "# Shift+ENTER!!\n",
        "import re\n",
        "import nltk\n",
        "# Функция очищения текста\n",
        "# \"Привет!!!\" => \"привет\"\n",
        "def filter(text):\n",
        "  text = text.lower().strip()\n",
        "  # \\w\\s - (слово или пробел)\n",
        "  # ^ - отрицание\n",
        "  # [ ... ] - символьная группа\n",
        "\n",
        "  # [a-z0-9]{3,}@[a-z0-9\\.]{4,} - емэйл (ОЧЕНЬ УСЛОВНЫЙ)\n",
        "\n",
        "  expression = r'[^\\w\\s]' # Регулярное выражение = \"Все что не слово и не пробел\"\n",
        "  return re.sub(expression, \"\", text) # Substitute - заменить \"Все что не слово и не пробел\" на \"\"\n",
        "\n",
        "\n",
        "# Функция text_match должна сравнивать текст пользователя с примером и решать похожи ли они\n",
        "def text_match(user_text, example):\n",
        "  # Убираем все лишнее\n",
        "  user_text = filter(user_text) \n",
        "  example = filter(example)\n",
        "  \n",
        "  if len(user_text) == 0 or len(example) == 0:\n",
        "    return False\n",
        "\n",
        "  # # Если фраза содержится в другой\n",
        "  # if user_text.find(example) != -1: # Если example найден внутри user_text\n",
        "  #   return True\n",
        "  \n",
        "  # if example.find(user_text) != -1: # Если user_text найден внутри example\n",
        "  #   return True\n",
        "\n",
        "  example_length = len(example)  # Длина фразы example\n",
        "  \n",
        "  # На сколько (%) отличаются фразы\n",
        "  difference = nltk.edit_distance(user_text, example) / example_length\n",
        "  return difference < 0.2  # Если разница меньше 40%"
      ],
      "metadata": {
        "id": "v68CYBmmMwwu"
      },
      "execution_count": null,
      "outputs": []
    },
    {
      "cell_type": "code",
      "source": [
        "filter(\"ПриВеТ!!!\")"
      ],
      "metadata": {
        "colab": {
          "base_uri": "https://localhost:8080/",
          "height": 35
        },
        "id": "7I9JOSg3bVIo",
        "outputId": "a87d5dc3-a137-4aa7-e062-034998720517"
      },
      "execution_count": null,
      "outputs": [
        {
          "output_type": "execute_result",
          "data": {
            "text/plain": [
              "'привет'"
            ],
            "application/vnd.google.colaboratory.intrinsic+json": {
              "type": "string"
            }
          },
          "metadata": {},
          "execution_count": 9
        }
      ]
    },
    {
      "cell_type": "code",
      "source": [
        "# Тексты совпадают\n",
        "text_match(\"Привет\", \"Привет\")  "
      ],
      "metadata": {
        "colab": {
          "base_uri": "https://localhost:8080/"
        },
        "id": "Y_v5venhNDey",
        "outputId": "211b33b0-80e4-47bd-c686-eed7b9eb1516"
      },
      "execution_count": null,
      "outputs": [
        {
          "output_type": "execute_result",
          "data": {
            "text/plain": [
              "True"
            ]
          },
          "metadata": {},
          "execution_count": 10
        }
      ]
    },
    {
      "cell_type": "code",
      "source": [
        "# Разный регистр (ToDo: lower)\n",
        "text_match(\"привет\", \"Привет\")"
      ],
      "metadata": {
        "colab": {
          "base_uri": "https://localhost:8080/"
        },
        "id": "mCkXZGN7NCxm",
        "outputId": "ece5509a-51c1-44ec-ef98-ea6303aa6b8e"
      },
      "execution_count": null,
      "outputs": [
        {
          "output_type": "execute_result",
          "data": {
            "text/plain": [
              "True"
            ]
          },
          "metadata": {},
          "execution_count": 11
        }
      ]
    },
    {
      "cell_type": "code",
      "source": [
        "# Лишние символы (ToDo: regular expressions)\n",
        "text_match(\"Привет!!!\", \"Привет\")  \n",
        "\n",
        "# Регулярные выражение (RegExp / Регэкспы)\n",
        "# Инструмент для обработки строки\n",
        "# \"Удалить в строке все знаки препинания\" - например"
      ],
      "metadata": {
        "colab": {
          "base_uri": "https://localhost:8080/"
        },
        "id": "XyYl1qxJOWfE",
        "outputId": "2ed7c57c-7f19-41f3-9a90-d80191a0751b"
      },
      "execution_count": null,
      "outputs": [
        {
          "output_type": "execute_result",
          "data": {
            "text/plain": [
              "True"
            ]
          },
          "metadata": {},
          "execution_count": 12
        }
      ]
    },
    {
      "cell_type": "code",
      "source": [
        "# Лишние слова (ToDo: find)\n",
        "text_match(\"Привет, как дела\", \"Привет\")  "
      ],
      "metadata": {
        "colab": {
          "base_uri": "https://localhost:8080/"
        },
        "id": "ElasFTAKOW8g",
        "outputId": "effefd3c-3663-4f50-ae60-2e43b0ffd244"
      },
      "execution_count": null,
      "outputs": [
        {
          "output_type": "execute_result",
          "data": {
            "text/plain": [
              "False"
            ]
          },
          "metadata": {},
          "execution_count": 13
        }
      ]
    },
    {
      "cell_type": "code",
      "source": [
        "# Опечатки (ToDo: levenstein)\n",
        "text_match(\"Превет\", \"Привед\")"
      ],
      "metadata": {
        "colab": {
          "base_uri": "https://localhost:8080/"
        },
        "id": "d9gU6QhvOY17",
        "outputId": "0ef2ceef-adca-42e9-f7f9-e55ee02584b4"
      },
      "execution_count": null,
      "outputs": [
        {
          "output_type": "execute_result",
          "data": {
            "text/plain": [
              "False"
            ]
          },
          "metadata": {},
          "execution_count": 14
        }
      ]
    },
    {
      "cell_type": "code",
      "source": [
        "length = 6\n",
        "nltk.edit_distance(\"Превет\", \"Привед\") / length"
      ],
      "metadata": {
        "colab": {
          "base_uri": "https://localhost:8080/"
        },
        "id": "6eoNPFd8kBfJ",
        "outputId": "bc734a21-9ed8-4b92-f2e8-655d96d6d6d0"
      },
      "execution_count": null,
      "outputs": [
        {
          "output_type": "execute_result",
          "data": {
            "text/plain": [
              "0.3333333333333333"
            ]
          },
          "metadata": {},
          "execution_count": 15
        }
      ]
    },
    {
      "cell_type": "markdown",
      "source": [
        "# ВЕРСИЯ 2: Определение намерения (intent) пользователя\n"
      ],
      "metadata": {
        "id": "LTA2IxBGQfp7"
      }
    },
    {
      "cell_type": "code",
      "source": [
        "# `{Вопрос на входе}` => `{Алгоритм ответа}` => `{Ответ на выходе}`\n",
        "\n",
        "# Примеры вопросов => Выбирался нужный вопрос с помощью функции text_match => Выдать вариант ответа\n",
        "# Интент = намерение пользователя = зачем он это спросил?\n",
        "# INTENTS = {\n",
        "#     \"hello\": {\n",
        "#         \"examples\": [\"Привет\", \"Хеллоу\", \"Хай\"],\n",
        "#         \"response\": [\"Здрасте\", \"Йоу\"],\n",
        "#     },\n",
        "#     \"how-are-you\": {\n",
        "#         \"examples\": [\"Как дела\", \"Чем занят\", \"Чо по чем\"],\n",
        "#         \"response\": [\"Вроде ничего\", \"На чиле, на расслабоне\"],\n",
        "#     },\n",
        "# }\n",
        "\n",
        "# Записывать сколько угодно новых фраз\n",
        "# Поместить в файл или в БД"
      ],
      "metadata": {
        "id": "jf5VCtOxPfDI"
      },
      "execution_count": null,
      "outputs": []
    },
    {
      "cell_type": "code",
      "source": [
        "# Определить намерение по тексту\n",
        "# \"Чем занят\" => \"how-are-you\"\n",
        "def get_intent(text):\n",
        "  # Проверить все существующие intent'ы\n",
        "  for intent_name in INTENTS.keys():\n",
        "    examples = INTENTS[intent_name][\"examples\"]\n",
        "    # Какой-нибудь один будет иметь example похожий на text\n",
        "    # Проверить все examples\n",
        "    for example in examples:\n",
        "      if text_match(text, example):\n",
        "        return intent_name\n",
        "\n",
        "# \"hello\" => \"Йоу\"\n",
        "# Берет случайны response для данного intent'а\n",
        "def get_response(intent):\n",
        "  return random.choice(INTENTS[intent][\"response\"])\n"
      ],
      "metadata": {
        "id": "185AmFXsRCiY"
      },
      "execution_count": null,
      "outputs": []
    },
    {
      "cell_type": "code",
      "source": [
        "# text = \"\"\n",
        "# while text!=\"Выход\":\n",
        "#   text=input()\n",
        "#   bot(text)"
      ],
      "metadata": {
        "id": "X00IBwwOsCTt"
      },
      "execution_count": null,
      "outputs": []
    },
    {
      "cell_type": "markdown",
      "source": [
        "\n",
        "\n",
        "```\n",
        "# This is formatted as code\n",
        "```\n",
        "\n",
        "# День 2\n",
        "\n",
        "РАБОТАЮЩИЙ ФАЙЛ: https://drive.google.com/file/d/1_L5CYGsO58zkB3LMBG73ezIEwYFD07Ed/view"
      ],
      "metadata": {
        "id": "hSSID1qhTRst"
      }
    },
    {
      "cell_type": "markdown",
      "source": [
        "# ВЕРСИЯ 3: Классификация текстов ML-моделью\n"
      ],
      "metadata": {
        "id": "pqqsdYVxRC4w"
      }
    },
    {
      "cell_type": "code",
      "source": [
        "import json\n",
        "\n",
        "with open(\"/content/big_bot_config.json\", \"r\") as config_file:\n",
        "  BIG_INTENTS = json.load(config_file)\n",
        "\n",
        "INTENTS = BIG_INTENTS[\"intents\"]"
      ],
      "metadata": {
        "id": "IekZ2-zqRHKH"
      },
      "execution_count": null,
      "outputs": []
    },
    {
      "cell_type": "markdown",
      "source": [
        "Задача: Научить Модель опеределять интент по тексту пользователя\n",
        "\n",
        "**Классификация текстов**\n",
        "\n",
        "Строчку на вход => Модель Предсказывает класс текста\n",
        "\n",
        "\"Фраза на вход\" => Модель предсказывает интент фразы\n",
        "\n",
        "Входные данные (Фразы, X)\n",
        "Выходные данные (Интенты, y)\n",
        "\n",
        "Модель обучится на наших примерах и сможет предсказывать интенты по фразе."
      ],
      "metadata": {
        "id": "mBr3UdTjhSnc"
      }
    },
    {
      "cell_type": "code",
      "source": [
        "X = [] # Фразы\n",
        "y = [] # Интенты\n",
        "\n",
        "for name,intent in INTENTS.items():  # Для каждого интента\n",
        "  for phrase in intent['examples']:  # Смотрим все фразы\n",
        "    X.append(phrase) # Дописываем в списки\n",
        "    y.append(name)\n",
        "  \n",
        "  for phrase in intent['responses']:\n",
        "    X.append(phrase)\n",
        "    y.append(name)"
      ],
      "metadata": {
        "id": "YjMoBrgeikvB"
      },
      "execution_count": null,
      "outputs": []
    },
    {
      "cell_type": "code",
      "source": [
        "len(X)"
      ],
      "metadata": {
        "colab": {
          "base_uri": "https://localhost:8080/"
        },
        "id": "DBhuuoEOlD5F",
        "outputId": "1ed6b812-fb1c-4afd-dbba-fadb45df6127"
      },
      "execution_count": null,
      "outputs": [
        {
          "output_type": "execute_result",
          "data": {
            "text/plain": [
              "5726"
            ]
          },
          "metadata": {},
          "execution_count": 21
        }
      ]
    },
    {
      "cell_type": "code",
      "source": [
        "X[1000:1010]"
      ],
      "metadata": {
        "colab": {
          "base_uri": "https://localhost:8080/"
        },
        "id": "b4yfEH3sk837",
        "outputId": "eed5dfef-7337-441a-ebad-eb71241a2968"
      },
      "execution_count": null,
      "outputs": [
        {
          "output_type": "execute_result",
          "data": {
            "text/plain": [
              "['exit',\n",
              " 'Пока-пока...',\n",
              " 'Я буду скучать',\n",
              " 'Считаю дни для нашей встречи',\n",
              " 'что ты можешь',\n",
              " 'покажи что умеешь',\n",
              " 'покажи свои возможности',\n",
              " 'что ты умеешь',\n",
              " 'Я умею разговаривать в любое время. Для вас я всегда в сети. А в чем вы профи?',\n",
              " 'Я могу с вами поговорить. А что умеете вы?']"
            ]
          },
          "metadata": {},
          "execution_count": 22
        }
      ]
    },
    {
      "cell_type": "code",
      "source": [
        "y[1000:1010]"
      ],
      "metadata": {
        "colab": {
          "base_uri": "https://localhost:8080/"
        },
        "id": "WjajW95jlA3f",
        "outputId": "6ca38fb3-ea3b-4d97-b24a-55a2b89ad23c"
      },
      "execution_count": null,
      "outputs": [
        {
          "output_type": "execute_result",
          "data": {
            "text/plain": [
              "['exits',\n",
              " 'exits',\n",
              " 'exits',\n",
              " 'exits',\n",
              " 'abilities',\n",
              " 'abilities',\n",
              " 'abilities',\n",
              " 'abilities',\n",
              " 'abilities',\n",
              " 'abilities']"
            ]
          },
          "metadata": {},
          "execution_count": 23
        }
      ]
    },
    {
      "cell_type": "markdown",
      "source": [
        "# Векторизация Текстов\n",
        "\n",
        "Превратить текст в набор чисел (вектор)\n",
        "\n",
        "\n",
        "Sklearn"
      ],
      "metadata": {
        "id": "yVX8ablmly7a"
      }
    },
    {
      "cell_type": "markdown",
      "source": [
        "**Задача Векторизации текста**\n",
        "\n",
        "\"текст\" => [1,2,3] \n",
        "\n",
        "\n",
        "1. Большой набор текстов\n",
        "2. Векторайзер обучается\n",
        "3. Векторайзер готов работать с новыми текстами\n",
        "\n",
        "# Пример\n",
        "```\n",
        "1. Набор текстов = {\n",
        "  \"мама мыла раму\", \n",
        "  \"мыла раму мама\",\n",
        "  \"раму мама мыла\",\n",
        "}\n",
        "```\n",
        "\n",
        "```\n",
        "2. Обучение\n",
        "мама = 1, мыла = 2, раму = 3\n",
        "  \"мама мыла раму\" = [1,2,3]\n",
        "  \"мыла раму мама\" = [2,3,1]\n",
        "  \"раму мама мыла\" = [3,1,2]\n",
        "```\n",
        "```\n",
        "3. Векторизация\n",
        "\"мама мама мама\" = [1,1,1]\n",
        "\"как мама мыла раму\" = [0,1,2,3]\n",
        "```"
      ],
      "metadata": {
        "id": "KzFweAd5pmXG"
      }
    },
    {
      "cell_type": "code",
      "source": [
        "from sklearn.feature_extraction.text import CountVectorizer\n",
        "\n",
        "vectorizer = CountVectorizer()\n",
        "vectorizer.fit(X) # Обучаем векторайзер\n",
        "\n",
        "# for i in vectorizer.transform([\"как дела чем занят\"]).toarray()[0]:\n",
        "#   if i!=0:\n",
        "#     print(i, end=',')\n",
        "# dense = [0,0,0,0,0,0,0,0,0,0,0,0,0,0,2,0,0,0,0,0,0,0,0,0,0,0,6,0,0,0,0,1]\n",
        "# sparse = [...2,...6,..1]\n"
      ],
      "metadata": {
        "colab": {
          "base_uri": "https://localhost:8080/"
        },
        "id": "gR7S9_QppYX7",
        "outputId": "d7e87b88-88f8-4d01-fa93-ca2c1c34a2e6"
      },
      "execution_count": null,
      "outputs": [
        {
          "output_type": "execute_result",
          "data": {
            "text/plain": [
              "CountVectorizer()"
            ]
          },
          "metadata": {},
          "execution_count": 24
        }
      ]
    },
    {
      "cell_type": "code",
      "source": [
        ""
      ],
      "metadata": {
        "id": "kL7R_P0iuj-d"
      },
      "execution_count": null,
      "outputs": []
    },
    {
      "cell_type": "code",
      "source": [
        "from sklearn.neural_network import MLPClassifier # Импортируем\n",
        "mlp_model = MLPClassifier() # Создаем модель\n",
        "vecX = vectorizer.transform(X) # Преобразуем тексты в вектора\n",
        "mlp_model.fit(vecX, y) # Обучаем модель"
      ],
      "metadata": {
        "colab": {
          "base_uri": "https://localhost:8080/"
        },
        "id": "z4yOWcLOtEzB",
        "outputId": "2a7fdfbc-a744-4283-c68b-35026a31c3d2"
      },
      "execution_count": null,
      "outputs": [
        {
          "output_type": "stream",
          "name": "stderr",
          "text": [
            "/usr/local/lib/python3.7/dist-packages/sklearn/neural_network/_multilayer_perceptron.py:699: UserWarning: Training interrupted by user.\n",
            "  warnings.warn(\"Training interrupted by user.\")\n"
          ]
        },
        {
          "output_type": "execute_result",
          "data": {
            "text/plain": [
              "MLPClassifier()"
            ]
          },
          "metadata": {},
          "execution_count": 25
        }
      ]
    },
    {
      "cell_type": "code",
      "source": [
        "mlp_model.score(vecX, y)  # Качество на тренировочной выборке = accuracy / больше = лучше"
      ],
      "metadata": {
        "colab": {
          "base_uri": "https://localhost:8080/"
        },
        "id": "bp6BZFyfvB2D",
        "outputId": "d67fe2f4-1dfe-4393-e50d-068ec8eb572c"
      },
      "execution_count": null,
      "outputs": [
        {
          "output_type": "execute_result",
          "data": {
            "text/plain": [
              "0.8505064617534055"
            ]
          },
          "metadata": {},
          "execution_count": 26
        }
      ]
    },
    {
      "cell_type": "code",
      "source": [
        "from sklearn.ensemble import RandomForestClassifier\n",
        "rf_model = RandomForestClassifier()\n",
        "rf_model.fit(vecX, y)\n",
        "rf_model.score(vecX, y)"
      ],
      "metadata": {
        "colab": {
          "base_uri": "https://localhost:8080/"
        },
        "id": "abMmg1fivmBL",
        "outputId": "66dc404f-6fb8-4860-9e42-a25bed32884a"
      },
      "execution_count": null,
      "outputs": [
        {
          "output_type": "execute_result",
          "data": {
            "text/plain": [
              "0.8643031784841075"
            ]
          },
          "metadata": {},
          "execution_count": 27
        }
      ]
    },
    {
      "cell_type": "code",
      "source": [
        "MODEL = rf_model # mlp_model\n",
        "\n",
        "def get_intent_ml(text):\n",
        "  vec_text = vectorizer.transform([text])\n",
        "  intent = MODEL.predict(vec_text)[0]\n",
        "  return intent"
      ],
      "metadata": {
        "id": "0BBriZajwNLs"
      },
      "execution_count": null,
      "outputs": []
    },
    {
      "cell_type": "code",
      "source": [
        "get_intent_ml(\"шутку или анекдот пожалуйста давай быстро\")"
      ],
      "metadata": {
        "colab": {
          "base_uri": "https://localhost:8080/",
          "height": 35
        },
        "id": "V2dn4qmDxQRm",
        "outputId": "91654922-8d07-45cf-82d8-4b96e5249f0a"
      },
      "execution_count": null,
      "outputs": [
        {
          "output_type": "execute_result",
          "data": {
            "text/plain": [
              "'jokes'"
            ],
            "application/vnd.google.colaboratory.intrinsic+json": {
              "type": "string"
            }
          },
          "metadata": {},
          "execution_count": 29
        }
      ]
    },
    {
      "cell_type": "code",
      "source": [
        "get_intent_ml(\"чо по приколам брат сделай красиво\")"
      ],
      "metadata": {
        "colab": {
          "base_uri": "https://localhost:8080/",
          "height": 35
        },
        "id": "TUOk7O2Qxasw",
        "outputId": "697cee58-966f-4471-9242-8153ad7e024c"
      },
      "execution_count": null,
      "outputs": [
        {
          "output_type": "execute_result",
          "data": {
            "text/plain": [
              "'command'"
            ],
            "application/vnd.google.colaboratory.intrinsic+json": {
              "type": "string"
            }
          },
          "metadata": {},
          "execution_count": 30
        }
      ]
    },
    {
      "cell_type": "code",
      "source": [
        "failure_phrases = BIG_INTENTS['failure_phrases']"
      ],
      "metadata": {
        "id": "vMZlwRBkyjft"
      },
      "execution_count": null,
      "outputs": []
    },
    {
      "cell_type": "code",
      "source": [
        "INTENTS = BIG_INTENTS['intents']\n",
        "# Определить намерение по тексту\n",
        "# \"Чем занят\" => \"how-are-you\"\n",
        "def get_intent(text):\n",
        "  # Проверить все существующие intent'ы\n",
        "  for intent_name in INTENTS.keys():\n",
        "    examples = INTENTS[intent_name][\"examples\"]\n",
        "    # Какой-нибудь один будет иметь example похожий на text\n",
        "    # Проверить все examples\n",
        "    for example in examples:\n",
        "      if text_match(text, example):\n",
        "        return intent_name\n",
        "\n",
        "# \"hello\" => \"Йоу\"\n",
        "# Берет случайны response для данного intent'а\n",
        "def get_response(intent):\n",
        "  return random.choice(INTENTS[intent][\"responses\"])\n"
      ],
      "metadata": {
        "id": "BpgdiMxTy-ox"
      },
      "execution_count": null,
      "outputs": []
    },
    {
      "cell_type": "code",
      "source": [
        "def bot(text):\n",
        "  text = filter(text)\n",
        "  intent = get_intent(text)  # Найти намерение\n",
        "  #print(\"get_intent\", intent, end='')\n",
        "  if not intent:  # Если намерение не найдено\n",
        "    intent = get_intent_ml(text)  # Пробуем подключить МЛ модель\n",
        "    #print(\"get_intent_ml\", intent, end='')\n",
        "  \n",
        "  if intent: # Если нашлось в итоге, выводим ответ\n",
        "    return get_response(intent)\n",
        "  else:\n",
        "    return random.choice(failure_phrases) # Выводим случайную заглушку\n",
        "\n"
      ],
      "metadata": {
        "id": "Sg1pEdTGx0lQ"
      },
      "execution_count": null,
      "outputs": []
    },
    {
      "cell_type": "markdown",
      "source": [
        "# День 3\n",
        "Бот в Телеграм\n",
        "\n",
        "Библиотека [python-telegram-bot](https://python-telegram-bot.org/)\n",
        "\n",
        "\n",
        "\n",
        "```\n",
        "pip install python-telegram-bot --pre\n",
        "```\n",
        "\n"
      ],
      "metadata": {
        "id": "MMr2mDwFTVeK"
      }
    },
    {
      "cell_type": "code",
      "source": [
        "! pip install python-telegram-bot"
      ],
      "metadata": {
        "colab": {
          "base_uri": "https://localhost:8080/"
        },
        "id": "4eCC32rImnd9",
        "outputId": "8f7830be-4287-47fe-9c99-cdbb2c4bf253"
      },
      "execution_count": null,
      "outputs": [
        {
          "output_type": "stream",
          "name": "stdout",
          "text": [
            "Looking in indexes: https://pypi.org/simple, https://us-python.pkg.dev/colab-wheels/public/simple/\n",
            "Requirement already satisfied: python-telegram-bot in /usr/local/lib/python3.7/dist-packages (20.0a1)\n",
            "Requirement already satisfied: tornado~=6.1 in /usr/local/lib/python3.7/dist-packages (from python-telegram-bot) (6.2b2)\n",
            "Requirement already satisfied: APScheduler~=3.9.1 in /usr/local/lib/python3.7/dist-packages (from python-telegram-bot) (3.9.1)\n",
            "Requirement already satisfied: cachetools~=5.2.0 in /usr/local/lib/python3.7/dist-packages (from python-telegram-bot) (5.2.0)\n",
            "Requirement already satisfied: pytz>=2018.6 in /usr/local/lib/python3.7/dist-packages (from python-telegram-bot) (2022.1)\n",
            "Requirement already satisfied: httpx~=0.23.0 in /usr/local/lib/python3.7/dist-packages (from python-telegram-bot) (0.23.0)\n",
            "Requirement already satisfied: six>=1.4.0 in /usr/local/lib/python3.7/dist-packages (from APScheduler~=3.9.1->python-telegram-bot) (1.15.0)\n",
            "Requirement already satisfied: setuptools>=0.7 in /usr/local/lib/python3.7/dist-packages (from APScheduler~=3.9.1->python-telegram-bot) (57.4.0)\n",
            "Requirement already satisfied: tzlocal!=3.*,>=2.0 in /usr/local/lib/python3.7/dist-packages (from APScheduler~=3.9.1->python-telegram-bot) (4.2)\n",
            "Requirement already satisfied: certifi in /usr/local/lib/python3.7/dist-packages (from httpx~=0.23.0->python-telegram-bot) (2022.6.15)\n",
            "Requirement already satisfied: rfc3986[idna2008]<2,>=1.3 in /usr/local/lib/python3.7/dist-packages (from httpx~=0.23.0->python-telegram-bot) (1.5.0)\n",
            "Requirement already satisfied: httpcore<0.16.0,>=0.15.0 in /usr/local/lib/python3.7/dist-packages (from httpx~=0.23.0->python-telegram-bot) (0.15.0)\n",
            "Requirement already satisfied: sniffio in /usr/local/lib/python3.7/dist-packages (from httpx~=0.23.0->python-telegram-bot) (1.2.0)\n",
            "Requirement already satisfied: anyio==3.* in /usr/local/lib/python3.7/dist-packages (from httpcore<0.16.0,>=0.15.0->httpx~=0.23.0->python-telegram-bot) (3.6.1)\n",
            "Requirement already satisfied: h11<0.13,>=0.11 in /usr/local/lib/python3.7/dist-packages (from httpcore<0.16.0,>=0.15.0->httpx~=0.23.0->python-telegram-bot) (0.12.0)\n",
            "Requirement already satisfied: idna>=2.8 in /usr/local/lib/python3.7/dist-packages (from anyio==3.*->httpcore<0.16.0,>=0.15.0->httpx~=0.23.0->python-telegram-bot) (2.10)\n",
            "Requirement already satisfied: typing-extensions in /usr/local/lib/python3.7/dist-packages (from anyio==3.*->httpcore<0.16.0,>=0.15.0->httpx~=0.23.0->python-telegram-bot) (4.1.1)\n",
            "Requirement already satisfied: pytz-deprecation-shim in /usr/local/lib/python3.7/dist-packages (from tzlocal!=3.*,>=2.0->APScheduler~=3.9.1->python-telegram-bot) (0.1.0.post0)\n",
            "Requirement already satisfied: backports.zoneinfo in /usr/local/lib/python3.7/dist-packages (from tzlocal!=3.*,>=2.0->APScheduler~=3.9.1->python-telegram-bot) (0.2.1)\n",
            "Requirement already satisfied: tzdata in /usr/local/lib/python3.7/dist-packages (from pytz-deprecation-shim->tzlocal!=3.*,>=2.0->APScheduler~=3.9.1->python-telegram-bot) (2022.1)\n"
          ]
        }
      ]
    },
    {
      "cell_type": "code",
      "source": [
        "import nest_asyncio\n",
        "nest_asyncio.apply()"
      ],
      "metadata": {
        "id": "CbSKz1-yvtSc"
      },
      "execution_count": null,
      "outputs": []
    },
    {
      "cell_type": "code",
      "source": [
        ""
      ],
      "metadata": {
        "colab": {
          "base_uri": "https://localhost:8080/"
        },
        "id": "_1Gn5_KWyQSx",
        "outputId": "b31b7052-07a0-476f-98df-b4cee2b014fb"
      },
      "execution_count": null,
      "outputs": [
        {
          "output_type": "stream",
          "name": "stdout",
          "text": [
            "Приветствую тебя, землянин\n"
          ]
        }
      ]
    },
    {
      "cell_type": "code",
      "source": [
        "#  Update - информация полученная с сервера (новые сообщения, новые контакты)\n",
        "#  С сервера регулярно регулярно приходят Update'ы с новой информацией\n",
        "from telegram import Update \n",
        "from telegram.ext import ApplicationBuilder #  Инструмент чтобы создавать и настраивать приложение (телеграм бот)\n",
        "from telegram.ext import MessageHandler #  Handler - обработчик - создать реакцию (функцию) на действие\n",
        "\n",
        "from  telegram.ext import filters\n",
        "\n",
        "# Функция для MessageHandler'а, вызывать ее при каждом сообщении боту\n",
        "async def reply(update: Update, context) -> None:\n",
        "  # ToDo: убрать заглушку, подключить бота\n",
        "  question = update.message.text\n",
        "  reply = bot(question)\n",
        "  print(f\"> {question}\")\n",
        "  print(f\"< {reply}\")\n",
        "  await update.message.reply_text(reply) #  Ответ пользователю\n",
        "\n",
        "# t.me/skill_june_bot\n",
        "\n",
        "# TOKEN = \"..\"  #  at BotFather\n",
        "app = ApplicationBuilder().token(TOKEN).build()\n",
        "\n",
        "# Создаем обработчик текстовых сообщений\n",
        "handler = MessageHandler(filters.Text(), reply)\n",
        "\n",
        "# Добавляем обработчик в приложение\n",
        "app.add_handler(handler)\n",
        "\n",
        "app.run_polling()"
      ],
      "metadata": {
        "colab": {
          "base_uri": "https://localhost:8080/",
          "height": 1000
        },
        "id": "TrjBZ_Mcm1Bz",
        "outputId": "939f7512-3d16-4841-8d8c-1386ad441e78"
      },
      "execution_count": null,
      "outputs": [
        {
          "output_type": "stream",
          "name": "stdout",
          "text": [
            "> /start\n",
            "< 2\n",
            "> Hi\n",
            "< Привет, человек\n",
            "> Privet\n",
            "< 0\n",
            "> Привет\n",
            "< Добрый день! Как к вам обращаться?\n",
            "> Hello\n",
            "< рад приветствовать вас\n",
            "> Вы очень вежливы, спасибо\n",
            "< Хорошо. А у вас?\n",
            "> Kak dela\n",
            "< 7\n",
            "> H\n",
            "< 4\n",
            "> Да все ок, как тебя зовут?\n",
            "< Да просто супер))\n",
            "> 5\n",
            "< 9\n",
            "> Jj\n",
            "< 6\n",
            "> КАК ТЕБЯ ЗОВУТ?\n",
            "< Петр\n",
            "> Hi\n",
            "< Рад встрече\n",
            "> ку\n",
            "< Драсьте\n",
            "> чё как\n",
            "< Легок на помине\n",
            "> ПРивет Петр\n",
            "< Извините, никого сейчас нет, оставьте свой вопрос тут\n",
            "> Privet\n",
            "< 4\n",
            "> а?\n",
            "< 2\n",
            "> ага\n",
            "< Замечательно\n",
            "> У матросов нет вопросов\n",
            "< Понятно\n",
            "> замечательно\n",
            "< Лучше всех\n",
            "> Здрасти\n",
            "< взаимно\n",
            "> Биткоины продаешь?\n",
            "< 1\n",
            "> Мсье француз?\n",
            "< 2\n",
            "> Как ты?\n",
            "< Норм\n",
            "> как зовут\n",
            "< Нет у меня имени, называй как хочешь\n",
            "> Работаешь\n",
            "< 9\n",
            "> Как тебя зовут\n",
            "< Петр\n",
            "> Не\n",
            "< Давайте начнем с простых действий, сначала перезагрузим ваш компьютер\n",
            "> не, как тебя зовут\n",
            "< Мне нравится твой рот ☺\n",
            "> Добрый вечер\n",
            "< Примите мои приветствия\n",
            "> Давай\n",
            "< Еще есть вопросы\n",
            "> Ну наконец то\n",
            "< Завёл собаку — заглохла.\n",
            "> привет\n",
            "< О, какие люди тут\n",
            "> Да\n",
            "< Принято\n",
            "> Расскажи анекдот\n",
            "< У меня была одна проблема, поэтому я решил написать программу, которая её решит. Теперь у меня есть 1 проблема, 9 ошибок и 12 предупреждений.как\n",
            "> Запишись на курсы Скиллбокс\n",
            "< Начни с Python\n",
            "> Что\n",
            "< Было что-то, но вот не вспомню сейчас\n",
            "> биткоины продаёшь?\n",
            "< 9\n",
            "> /start\n",
            "< 7\n",
            "> Ты где\n",
            "< Я живу там, где тебе даже это не снилось\n",
            "> Привет\n",
            "< Давайте успокоимся и проясним проблему\n",
            "> Шутку\n",
            "< Спартанским воинам говорили: «Вернись со щитом или на щите». Имея в виду: «Не потеряй щит».\n",
            "> Не очень точный ответ\n",
            "< Грустно... Хотите расскажу анекдот?\n",
            "> пасиба\n",
            "< 7\n",
            "> Дай биткоин\n",
            "< Тото, у меня такое ощущение, что мы больше не в Канзасе\n",
            "> Это где\n",
            "< Конечно, помогу. Что случилось?\n",
            "> Ок\n",
            "< Отлично\n",
            "> Там\n",
            "< 8\n",
            "> Что делаешь?\n",
            "< наполнит ветер ночь интриг\n",
            "> всмысле\n",
            "< 7\n",
            "> Биткоины есть?\n",
            "< Да, скидка есть 20%\n",
            "> Дай скидку\n",
            "< Вот иду я красивая по улице, а мужики вокруг так и падают, так и падают… И сами в штабеля укладываются!\n",
            "> нее\n",
            "< 4\n",
            "> Анекдот\n",
            "< Посмотри в интернете\n",
            "> Почем?\n",
            "< Я сам не знаю :)\n",
            "> не нада\n",
            "< Для возврата товара вам нудно овралится лично в наш офис\n",
            "> Прикольно\n",
            "< Рад за тебя\n",
            "> Лучше расскажи\n",
            "< Это не моё\n",
            "> Биткоин?\n",
            "< 6\n",
            "> Эх\n",
            "< 9\n",
            "> 8\n",
            "< 5\n",
            "> Попробуй\n",
            "< 3\n",
            "> 4\n",
            "< 8\n",
            "> ок, спасибо\n",
            "< Обращайтесь\n",
            "> 7\n",
            "< 5\n",
            "> 4\n",
            "< 5\n",
            "> Попытайся\n",
            "< 6\n",
            "> /start\n",
            "< 3\n",
            "> 3\n",
            "< 9\n",
            "> Запишись на курсы\n",
            "< Образование необязательно\n",
            "> Приает\n",
            "< Ку\n",
            "> Хочу скидку\n",
            "< В некотором царстве, в некотором государстве...\n",
            "> куда поехать отдыхать?\n",
            "< Мы находимся по адресу: Москва, Кремль\n",
            "> Алал\n",
            "< 0\n",
            "> Куда ж без него\n",
            "< Мы находимся по адресу: Москва, Кремль\n",
            "> Лалала\n",
            "< 4\n",
            "> Скидку\n",
            "< Можем уступить 20%\n",
            "> Завидую\n",
            "< 1\n",
            "> Салам\n",
            "< Доброго времени суток!\n",
            "> Азада\n",
            "< 4\n",
            "> Шучу\n",
            "< 5\n",
            "> Пососешь?\n",
            "< 3\n",
            "> Давай\n",
            "< see ya\n",
            "> Влвлв\n",
            "< 6\n",
            "> Лалвлв\n",
            "< 9\n",
            "> Куда скинешь\n",
            "< Мы находимся по адресу: Москва, Кремль\n",
            "> Запишись на курсы Skillbox\n",
            "< Начни с Python\n",
            "> Вдулвдвддудудудудудв\n",
            "< 6\n",
            "> Я приду скоро\n",
            "< Подождите минутку\n",
            "> И все таки\n",
            "< Иди купи курс на Skillbox\n",
            "> Минута прошла\n",
            "< 0\n",
            "> Цифры?\n",
            "< 2\n",
            "> Это потом\n",
            "< расписание приема  это на удачу  в регистратуре\n",
            "> ООО\n",
            "< 8\n",
            "> сколько денег?\n",
            "< Я бы пошла уже спать\n",
            "> опять?\n",
            "< 7\n",
            "> расскажи анектод\n",
            "< Есть два вида родственников: «Ура, вы пришли! » и «Ура, они не придут!»\n",
            "> 228\n",
            "< 5\n",
            "> Да почему?\n",
            "< Да так, не обращай внимания\n",
            "> 7\n",
            "< 6\n",
            "> Ты робот?\n",
            "< в наше время все границы и определения размываются..\n",
            "> 3\n",
            "< 7\n",
            "> 2\n",
            "< 4\n",
            "> ехехехе\n",
            "< 2\n",
            "> В чем сила брат?\n",
            "< Пожалуйста, прекратите спрашивать глупости\n",
            "> 4\n",
            "< 9\n"
          ]
        },
        {
          "output_type": "stream",
          "name": "stderr",
          "text": [
            "No error handlers are registered, logging exception.\n",
            "Traceback (most recent call last):\n",
            "  File \"/usr/local/lib/python3.7/dist-packages/telegram/ext/_application.py\", line 970, in process_update\n",
            "    await coroutine\n",
            "  File \"/usr/local/lib/python3.7/dist-packages/telegram/ext/_handler.py\", line 137, in handle_update\n",
            "    return await self.callback(update, context)\n",
            "  File \"<ipython-input-60-55d919053f9a>\", line 13, in reply\n",
            "    reply = bot(question)\n",
            "  File \"<ipython-input-59-06c0151a720d>\", line 10, in bot\n",
            "    return get_response(intent)\n",
            "  File \"<ipython-input-32-969bca87e8a1>\", line 17, in get_response\n",
            "    return random.choice(INTENTS[intent][\"responses\"])\n",
            "  File \"/usr/lib/python3.7/random.py\", line 261, in choice\n",
            "    raise IndexError('Cannot choose from an empty sequence') from None\n",
            "IndexError: Cannot choose from an empty sequence\n"
          ]
        },
        {
          "output_type": "stream",
          "name": "stdout",
          "text": [
            "> /start\n",
            "< 7\n",
            "> 1\n",
            "< 4\n",
            "> 5\n",
            "< 9\n",
            "> Анекдот\n",
            "< Буратино утонул, а колобок повесился\n",
            "> Цифры скинь эээ\n",
            "< 9\n",
            "> 10\n",
            "< Если хочешь вкрутую - не менее 10 минут\n",
            "> Ну анекдот давай\n",
            "< Анекдот:\n",
            "— Алло, это прачечная?\n",
            "— Хуячечная. Это ФСБ.\n",
            "> /start\n",
            "< 7\n",
            "> /start\n",
            "< 5\n",
            "> Что по делам\n",
            "< На букву \"х\", но не хорошо.\n",
            "> ок\n",
            "< ОК\n",
            "> Хуй\n",
            "< С такими терминами конструктивный разговор не построишь\n",
            "> Что такое SkillBox?\n",
            "< Друг удава.\n",
            "> Не ругайся\n",
            "< сам такой\n",
            "> ага, спасибо\n",
            "< Обращайтесь\n",
            "> Помоги мне\n",
            "< Да, я к Вашим услугам\n",
            "> Я не ругаюсь\n",
            "< Мы свяжемся с поставщиком товара для уточнения информации\n",
            "> Ты живой?\n",
            "< Совсем чуть-чуть\n",
            "> Сколько время?\n",
            "< Какая разница?\n",
            "> Небезопасно\n",
            "< 3\n",
            "> Хочу в туалет\n",
            "< Может в DOTку?\n",
            "> 3?\n",
            "< 9\n",
            "> /start\n",
            "< 4\n",
            "> Давай переспим?\n",
            "< Давай\n",
            "> Думаешь?\n",
            "< 1\n",
            "> Выкристализовавшийся апологет неоколониализма.\n",
            "< 7\n",
            "> привет\n",
            "< Легок на помине\n",
            "> жиза\n",
            "< 9\n",
            "> Привет\n",
            "< Вот так встреча\n",
            "> Деньги есть?\n",
            "< Возврат денежных средств займет 2 - 3 рабочих дня\n",
            "> Отвечаешь ты, братец невпопад\n",
            "< Твой помощник тут\n",
            "> чё по приколам брат сделай красиво\n",
            "< Скоро все будет готово\n",
            "> Деньги есть?\n",
            "< Для возврата товара вам нудно овралится лично в наш офис\n",
            "> Не похоже\n",
            "< Мы свяжемся с поставщиком товара для уточнения информации\n",
            "> прикол расскажи\n",
            "< Шутка_3\n",
            "> Знаешь Михаила и Максима?\n",
            "< 1\n",
            "> А найду?\n",
            "< 0\n",
            "> го прикол\n",
            "< Колобок повесился\n",
            "> Знаешь Михаила и Максима?\n",
            "< 6\n",
            "> Слабенький ты ещё\n",
            "< Я тут\n",
            "> Hi\n",
            "< Поехали\n",
            "> жиза\n",
            "< 9\n",
            "> прикол\n",
            "< У кого-то папарация, а у кого-то папа - не рация. Не смешно, да? Я тоже так считаю, но мой создатель думает иначе (((\n",
            "> Ожил\n",
            "< 1\n"
          ]
        },
        {
          "output_type": "error",
          "ename": "RuntimeError",
          "evalue": "ignored",
          "traceback": [
            "\u001b[0;31m---------------------------------------------------------------------------\u001b[0m",
            "\u001b[0;31mRuntimeError\u001b[0m                              Traceback (most recent call last)",
            "\u001b[0;32m<ipython-input-60-55d919053f9a>\u001b[0m in \u001b[0;36m<module>\u001b[0;34m()\u001b[0m\n\u001b[1;32m     27\u001b[0m \u001b[0mapp\u001b[0m\u001b[0;34m.\u001b[0m\u001b[0madd_handler\u001b[0m\u001b[0;34m(\u001b[0m\u001b[0mhandler\u001b[0m\u001b[0;34m)\u001b[0m\u001b[0;34m\u001b[0m\u001b[0;34m\u001b[0m\u001b[0m\n\u001b[1;32m     28\u001b[0m \u001b[0;34m\u001b[0m\u001b[0m\n\u001b[0;32m---> 29\u001b[0;31m \u001b[0mapp\u001b[0m\u001b[0;34m.\u001b[0m\u001b[0mrun_polling\u001b[0m\u001b[0;34m(\u001b[0m\u001b[0;34m)\u001b[0m\u001b[0;34m\u001b[0m\u001b[0;34m\u001b[0m\u001b[0m\n\u001b[0m",
            "\u001b[0;32m/usr/local/lib/python3.7/dist-packages/telegram/ext/_application.py\u001b[0m in \u001b[0;36mrun_polling\u001b[0;34m(self, poll_interval, timeout, bootstrap_retries, read_timeout, write_timeout, connect_timeout, pool_timeout, allowed_updates, drop_pending_updates, close_loop, stop_signals)\u001b[0m\n\u001b[1;32m    645\u001b[0m             ),\n\u001b[1;32m    646\u001b[0m             \u001b[0mclose_loop\u001b[0m\u001b[0;34m=\u001b[0m\u001b[0mclose_loop\u001b[0m\u001b[0;34m,\u001b[0m\u001b[0;34m\u001b[0m\u001b[0;34m\u001b[0m\u001b[0m\n\u001b[0;32m--> 647\u001b[0;31m             \u001b[0mstop_signals\u001b[0m\u001b[0;34m=\u001b[0m\u001b[0mstop_signals\u001b[0m\u001b[0;34m,\u001b[0m\u001b[0;34m\u001b[0m\u001b[0;34m\u001b[0m\u001b[0m\n\u001b[0m\u001b[1;32m    648\u001b[0m         )\n\u001b[1;32m    649\u001b[0m \u001b[0;34m\u001b[0m\u001b[0m\n",
            "\u001b[0;32m/usr/local/lib/python3.7/dist-packages/telegram/ext/_application.py\u001b[0m in \u001b[0;36m__run\u001b[0;34m(self, updater_coroutine, stop_signals, close_loop)\u001b[0m\n\u001b[1;32m    804\u001b[0m             \u001b[0;32mfinally\u001b[0m\u001b[0;34m:\u001b[0m\u001b[0;34m\u001b[0m\u001b[0;34m\u001b[0m\u001b[0m\n\u001b[1;32m    805\u001b[0m                 \u001b[0;32mif\u001b[0m \u001b[0mclose_loop\u001b[0m\u001b[0;34m:\u001b[0m\u001b[0;34m\u001b[0m\u001b[0;34m\u001b[0m\u001b[0m\n\u001b[0;32m--> 806\u001b[0;31m                     \u001b[0mloop\u001b[0m\u001b[0;34m.\u001b[0m\u001b[0mclose\u001b[0m\u001b[0;34m(\u001b[0m\u001b[0;34m)\u001b[0m\u001b[0;34m\u001b[0m\u001b[0;34m\u001b[0m\u001b[0m\n\u001b[0m\u001b[1;32m    807\u001b[0m \u001b[0;34m\u001b[0m\u001b[0m\n\u001b[1;32m    808\u001b[0m     \u001b[0;32mdef\u001b[0m \u001b[0mcreate_task\u001b[0m\u001b[0;34m(\u001b[0m\u001b[0mself\u001b[0m\u001b[0;34m,\u001b[0m \u001b[0mcoroutine\u001b[0m\u001b[0;34m:\u001b[0m \u001b[0mCoroutine\u001b[0m\u001b[0;34m,\u001b[0m \u001b[0mupdate\u001b[0m\u001b[0;34m:\u001b[0m \u001b[0mobject\u001b[0m \u001b[0;34m=\u001b[0m \u001b[0;32mNone\u001b[0m\u001b[0;34m)\u001b[0m \u001b[0;34m->\u001b[0m \u001b[0masyncio\u001b[0m\u001b[0;34m.\u001b[0m\u001b[0mTask\u001b[0m\u001b[0;34m:\u001b[0m\u001b[0;34m\u001b[0m\u001b[0;34m\u001b[0m\u001b[0m\n",
            "\u001b[0;32m/usr/lib/python3.7/asyncio/unix_events.py\u001b[0m in \u001b[0;36mclose\u001b[0;34m(self)\u001b[0m\n\u001b[1;32m     53\u001b[0m \u001b[0;34m\u001b[0m\u001b[0m\n\u001b[1;32m     54\u001b[0m     \u001b[0;32mdef\u001b[0m \u001b[0mclose\u001b[0m\u001b[0;34m(\u001b[0m\u001b[0mself\u001b[0m\u001b[0;34m)\u001b[0m\u001b[0;34m:\u001b[0m\u001b[0;34m\u001b[0m\u001b[0;34m\u001b[0m\u001b[0m\n\u001b[0;32m---> 55\u001b[0;31m         \u001b[0msuper\u001b[0m\u001b[0;34m(\u001b[0m\u001b[0;34m)\u001b[0m\u001b[0;34m.\u001b[0m\u001b[0mclose\u001b[0m\u001b[0;34m(\u001b[0m\u001b[0;34m)\u001b[0m\u001b[0;34m\u001b[0m\u001b[0;34m\u001b[0m\u001b[0m\n\u001b[0m\u001b[1;32m     56\u001b[0m         \u001b[0;32mif\u001b[0m \u001b[0;32mnot\u001b[0m \u001b[0msys\u001b[0m\u001b[0;34m.\u001b[0m\u001b[0mis_finalizing\u001b[0m\u001b[0;34m(\u001b[0m\u001b[0;34m)\u001b[0m\u001b[0;34m:\u001b[0m\u001b[0;34m\u001b[0m\u001b[0;34m\u001b[0m\u001b[0m\n\u001b[1;32m     57\u001b[0m             \u001b[0;32mfor\u001b[0m \u001b[0msig\u001b[0m \u001b[0;32min\u001b[0m \u001b[0mlist\u001b[0m\u001b[0;34m(\u001b[0m\u001b[0mself\u001b[0m\u001b[0;34m.\u001b[0m\u001b[0m_signal_handlers\u001b[0m\u001b[0;34m)\u001b[0m\u001b[0;34m:\u001b[0m\u001b[0;34m\u001b[0m\u001b[0;34m\u001b[0m\u001b[0m\n",
            "\u001b[0;32m/usr/lib/python3.7/asyncio/selector_events.py\u001b[0m in \u001b[0;36mclose\u001b[0;34m(self)\u001b[0m\n\u001b[1;32m     86\u001b[0m     \u001b[0;32mdef\u001b[0m \u001b[0mclose\u001b[0m\u001b[0;34m(\u001b[0m\u001b[0mself\u001b[0m\u001b[0;34m)\u001b[0m\u001b[0;34m:\u001b[0m\u001b[0;34m\u001b[0m\u001b[0;34m\u001b[0m\u001b[0m\n\u001b[1;32m     87\u001b[0m         \u001b[0;32mif\u001b[0m \u001b[0mself\u001b[0m\u001b[0;34m.\u001b[0m\u001b[0mis_running\u001b[0m\u001b[0;34m(\u001b[0m\u001b[0;34m)\u001b[0m\u001b[0;34m:\u001b[0m\u001b[0;34m\u001b[0m\u001b[0;34m\u001b[0m\u001b[0m\n\u001b[0;32m---> 88\u001b[0;31m             \u001b[0;32mraise\u001b[0m \u001b[0mRuntimeError\u001b[0m\u001b[0;34m(\u001b[0m\u001b[0;34m\"Cannot close a running event loop\"\u001b[0m\u001b[0;34m)\u001b[0m\u001b[0;34m\u001b[0m\u001b[0;34m\u001b[0m\u001b[0m\n\u001b[0m\u001b[1;32m     89\u001b[0m         \u001b[0;32mif\u001b[0m \u001b[0mself\u001b[0m\u001b[0;34m.\u001b[0m\u001b[0mis_closed\u001b[0m\u001b[0;34m(\u001b[0m\u001b[0;34m)\u001b[0m\u001b[0;34m:\u001b[0m\u001b[0;34m\u001b[0m\u001b[0;34m\u001b[0m\u001b[0m\n\u001b[1;32m     90\u001b[0m             \u001b[0;32mreturn\u001b[0m\u001b[0;34m\u001b[0m\u001b[0;34m\u001b[0m\u001b[0m\n",
            "\u001b[0;31mRuntimeError\u001b[0m: Cannot close a running event loop"
          ]
        }
      ]
    },
    {
      "cell_type": "code",
      "source": [
        ""
      ],
      "metadata": {
        "id": "Dm8egGNEnMK6"
      },
      "execution_count": null,
      "outputs": []
    }
  ]
}